{
 "cells": [
  {
   "cell_type": "code",
   "execution_count": 3,
   "metadata": {},
   "outputs": [
    {
     "name": "stdout",
     "output_type": "stream",
     "text": [
      "Nama Lokasi: Kebun A\n",
      "Hasil Panen:\n",
      "  padi: 1200\n",
      "  jagung: 800\n",
      "  kedelai: 500\n",
      "\n",
      "Nama Lokasi: Kebun B\n",
      "Hasil Panen:\n",
      "  padi: 1500\n",
      "  jagung: 900\n",
      "  kedelai: 450\n",
      "\n",
      "Nama Lokasi: Kebun C\n",
      "Hasil Panen:\n",
      "  padi: 1100\n",
      "  jagung: 750\n",
      "  kedelai: 600\n",
      "\n",
      "Nama Lokasi: Kebun D\n",
      "Hasil Panen:\n",
      "  padi: 1300\n",
      "  jagung: 850\n",
      "  kedelai: 550\n",
      "\n",
      "Nama Lokasi: Kebun E\n",
      "Hasil Panen:\n",
      "  padi: 1400\n",
      "  jagung: 950\n",
      "  kedelai: 480\n",
      "\n"
     ]
    }
   ],
   "source": [
    "data_panen = {\n",
    "    'lokasi1': {\n",
    "        'nama_lokasi': 'Kebun A',\n",
    "        'hasil_panen': {\n",
    "            'padi': 1200,\n",
    "            'jagung': 800,\n",
    "            'kedelai': 500\n",
    "        }\n",
    "    },\n",
    "    'lokasi2': {\n",
    "        'nama_lokasi': 'Kebun B',\n",
    "        'hasil_panen': {\n",
    "            'padi': 1500,\n",
    "            'jagung': 900,\n",
    "            'kedelai': 450\n",
    "        }\n",
    "    },\n",
    "    'lokasi3': {\n",
    "        'nama_lokasi': 'Kebun C',\n",
    "        'hasil_panen': {\n",
    "            'padi': 1100,\n",
    "            'jagung': 750,\n",
    "            'kedelai': 600\n",
    "        }\n",
    "    },\n",
    "    'lokasi4': {\n",
    "        'nama_lokasi': 'Kebun D',\n",
    "        'hasil_panen': {\n",
    "            'padi': 1300,\n",
    "            'jagung': 850,\n",
    "            'kedelai': 550\n",
    "        }\n",
    "    },\n",
    "    'lokasi5': {\n",
    "        'nama_lokasi': 'Kebun E',\n",
    "        'hasil_panen': {\n",
    "            'padi': 1400,\n",
    "            'jagung': 950,\n",
    "            'kedelai': 480\n",
    "        }\n",
    "    }\n",
    "}\n",
    "\n",
    "for lokasi, data in data_panen.items():\n",
    "    print(f\"Nama Lokasi: {data['nama_lokasi']}\")\n",
    "    print(\"Hasil Panen:\")\n",
    "    for komoditas, jumlah in data['hasil_panen'].items():\n",
    "        print(f\"  {komoditas}: {jumlah}\")\n",
    "    print() "
   ]
  },
  {
   "cell_type": "code",
   "execution_count": 4,
   "metadata": {},
   "outputs": [
    {
     "name": "stdout",
     "output_type": "stream",
     "text": [
      "Jumlah hasil panen jagung dari lokasi2: 900\n"
     ]
    }
   ],
   "source": [
    "jumlah_jagung_lokasi2 = data_panen['lokasi2']['hasil_panen']['jagung']\n",
    "print(f\"Jumlah hasil panen jagung dari lokasi2: {jumlah_jagung_lokasi2}\")"
   ]
  },
  {
   "cell_type": "code",
   "execution_count": 5,
   "metadata": {},
   "outputs": [
    {
     "name": "stdout",
     "output_type": "stream",
     "text": [
      "Nama lokasi dari lokasi3: Kebun C\n"
     ]
    }
   ],
   "source": [
    "nama_lokasi3 = data_panen['lokasi3']['nama_lokasi']\n",
    "print(f\"Nama lokasi dari lokasi3: {nama_lokasi3}\")"
   ]
  },
  {
   "cell_type": "code",
   "execution_count": 7,
   "metadata": {},
   "outputs": [],
   "source": [
    "hasil_padi = {}\n",
    "hasil_kedelai = {}\n",
    "\n",
    "for lokasi, data in data_panen.items():\n",
    "    hasil_padi[lokasi] = data['hasil_panen']['padi']\n",
    "    hasil_kedelai[lokasi] = data['hasil_panen']['kedelai']"
   ]
  },
  {
   "cell_type": "code",
   "execution_count": 8,
   "metadata": {},
   "outputs": [],
   "source": [
    "padi_lokasi1 = data_panen['lokasi1']['hasil_panen']['padi']\n",
    "kedelai_lokasi1 = data_panen['lokasi1']['hasil_panen']['kedelai']\n",
    "\n",
    "padi_lokasi2 = data_panen['lokasi2']['hasil_panen']['padi']\n",
    "kedelai_lokasi2 = data_panen['lokasi2']['hasil_panen']['kedelai']\n",
    "\n",
    "padi_lokasi3 = data_panen['lokasi3']['hasil_panen']['padi']\n",
    "kedelai_lokasi3 = data_panen['lokasi3']['hasil_panen']['kedelai']\n",
    "\n",
    "padi_lokasi4 = data_panen['lokasi4']['hasil_panen']['padi']\n",
    "kedelai_lokasi4 = data_panen['lokasi4']['hasil_panen']['kedelai']\n",
    "\n",
    "padi_lokasi5 = data_panen['lokasi5']['hasil_panen']['padi']\n",
    "kedelai_lokasi5 = data_panen['lokasi5']['hasil_panen']['kedelai']"
   ]
  },
  {
   "cell_type": "code",
   "execution_count": null,
   "metadata": {},
   "outputs": [
    {
     "name": "stdout",
     "output_type": "stream",
     "text": [
      "Lokasi Kebun A dalam kondisi baik.\n",
      "Lokasi Kebun B memerlukan perhatian khusus.\n",
      "Lokasi Kebun C dalam kondisi baik.\n",
      "Lokasi Kebun D memerlukan perhatian khusus.\n",
      "Lokasi Kebun E memerlukan perhatian khusus.\n"
     ]
    }
   ],
   "source": []
  },
  {
   "cell_type": "code",
   "execution_count": null,
   "metadata": {},
   "outputs": [],
   "source": [
    "#Berhasil file baru"
   ]
  }
 ],
 "metadata": {
  "kernelspec": {
   "display_name": "base",
   "language": "python",
   "name": "python3"
  },
  "language_info": {
   "codemirror_mode": {
    "name": "ipython",
    "version": 3
   },
   "file_extension": ".py",
   "mimetype": "text/x-python",
   "name": "python",
   "nbconvert_exporter": "python",
   "pygments_lexer": "ipython3",
   "version": "3.12.4"
  }
 },
 "nbformat": 4,
 "nbformat_minor": 2
}
